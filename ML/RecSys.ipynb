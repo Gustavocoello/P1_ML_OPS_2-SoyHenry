{
 "cells": [
  {
   "cell_type": "markdown",
   "metadata": {},
   "source": [
    "## ***Machine Learning***\n",
    "El modelo deberá tener una relación `ítem-ítem`, esto se refiere a que se toma un item, en base a que tan similar es ese ítem al resto, se recomiendan similares. Aquí el input es un juego y el output es una lista de juegos recomendados, para ello aplicaremos la similitud del coseno.\n",
    "\n",
    "**Comenzamos trayendo los datos, las librerias y creando nuestro sistema de recomendación usando un filtro-colaborativo de `item-item`. Entonces...**\n",
    "<img src = \"https://encrypted-tbn0.gstatic.com/images?q=tbn:ANd9GcTqF0wkErtJDCV5QzwoPO_9sdEA7nxQdk5EJA&usqp=CAU\">"
   ]
  },
  {
   "cell_type": "markdown",
   "metadata": {},
   "source": [
    "### ***1. Importamos  librerías***"
   ]
  },
  {
   "cell_type": "code",
   "execution_count": 1,
   "metadata": {},
   "outputs": [],
   "source": [
    "# Importtamos librerias\n",
    "import numpy as np \n",
    "import pandas as pd \n",
    "from sklearn.metrics.pairwise import cosine_similarity\n",
    "from sklearn.feature_extraction.text import CountVectorizer\n",
    "import nltk\n",
    "from nltk.stem.porter import PorterStemmer"
   ]
  },
  {
   "cell_type": "markdown",
   "metadata": {},
   "source": [
    "### **1.1 Carga inicial de los datos**"
   ]
  },
  {
   "cell_type": "code",
   "execution_count": 2,
   "metadata": {},
   "outputs": [],
   "source": [
    "movies = pd.read_parquet(\"Data/movies.parquet\")\n",
    "actors = pd.read_parquet(\"Data/actores.parquet\")\n",
    "team = pd.read_parquet(\"Data/equipo.parquet\")"
   ]
  },
  {
   "cell_type": "code",
   "execution_count": 3,
   "metadata": {},
   "outputs": [],
   "source": [
    "# Convertir en Dataframe \n",
    "df_movies = pd.DataFrame(movies)\n",
    "df_actors = pd.DataFrame(actors)\n",
    "df_team = pd.DataFrame(team)"
   ]
  },
  {
   "cell_type": "markdown",
   "metadata": {},
   "source": [
    "### ***2. Preparamos los datos***"
   ]
  },
  {
   "cell_type": "code",
   "execution_count": 4,
   "metadata": {},
   "outputs": [
    {
     "data": {
      "text/html": [
       "<div>\n",
       "<style scoped>\n",
       "    .dataframe tbody tr th:only-of-type {\n",
       "        vertical-align: middle;\n",
       "    }\n",
       "\n",
       "    .dataframe tbody tr th {\n",
       "        vertical-align: top;\n",
       "    }\n",
       "\n",
       "    .dataframe thead th {\n",
       "        text-align: right;\n",
       "    }\n",
       "</style>\n",
       "<table border=\"1\" class=\"dataframe\">\n",
       "  <thead>\n",
       "    <tr style=\"text-align: right;\">\n",
       "      <th></th>\n",
       "      <th>id_movie</th>\n",
       "      <th>gender</th>\n",
       "      <th>actor_id</th>\n",
       "      <th>name_actor</th>\n",
       "    </tr>\n",
       "  </thead>\n",
       "  <tbody>\n",
       "    <tr>\n",
       "      <th>0</th>\n",
       "      <td>862</td>\n",
       "      <td>2</td>\n",
       "      <td>31</td>\n",
       "      <td>Tom Hanks</td>\n",
       "    </tr>\n",
       "  </tbody>\n",
       "</table>\n",
       "</div>"
      ],
      "text/plain": [
       "   id_movie  gender  actor_id name_actor\n",
       "0       862       2        31  Tom Hanks"
      ]
     },
     "execution_count": 4,
     "metadata": {},
     "output_type": "execute_result"
    }
   ],
   "source": [
    "df_actors.head(1)"
   ]
  },
  {
   "cell_type": "code",
   "execution_count": 5,
   "metadata": {},
   "outputs": [
    {
     "data": {
      "text/html": [
       "<div>\n",
       "<style scoped>\n",
       "    .dataframe tbody tr th:only-of-type {\n",
       "        vertical-align: middle;\n",
       "    }\n",
       "\n",
       "    .dataframe tbody tr th {\n",
       "        vertical-align: top;\n",
       "    }\n",
       "\n",
       "    .dataframe thead th {\n",
       "        text-align: right;\n",
       "    }\n",
       "</style>\n",
       "<table border=\"1\" class=\"dataframe\">\n",
       "  <thead>\n",
       "    <tr style=\"text-align: right;\">\n",
       "      <th></th>\n",
       "      <th>id_movie</th>\n",
       "      <th>team_member_id</th>\n",
       "      <th>job</th>\n",
       "      <th>name</th>\n",
       "      <th>gender</th>\n",
       "    </tr>\n",
       "  </thead>\n",
       "  <tbody>\n",
       "    <tr>\n",
       "      <th>0</th>\n",
       "      <td>862</td>\n",
       "      <td>7879</td>\n",
       "      <td>Director</td>\n",
       "      <td>John Lasseter</td>\n",
       "      <td>2</td>\n",
       "    </tr>\n",
       "  </tbody>\n",
       "</table>\n",
       "</div>"
      ],
      "text/plain": [
       "   id_movie  team_member_id       job           name  gender\n",
       "0       862            7879  Director  John Lasseter       2"
      ]
     },
     "execution_count": 5,
     "metadata": {},
     "output_type": "execute_result"
    }
   ],
   "source": [
    "df_team.head(1)"
   ]
  },
  {
   "cell_type": "code",
   "execution_count": 6,
   "metadata": {},
   "outputs": [
    {
     "data": {
      "text/html": [
       "<div>\n",
       "<style scoped>\n",
       "    .dataframe tbody tr th:only-of-type {\n",
       "        vertical-align: middle;\n",
       "    }\n",
       "\n",
       "    .dataframe tbody tr th {\n",
       "        vertical-align: top;\n",
       "    }\n",
       "\n",
       "    .dataframe thead th {\n",
       "        text-align: right;\n",
       "    }\n",
       "</style>\n",
       "<table border=\"1\" class=\"dataframe\">\n",
       "  <thead>\n",
       "    <tr style=\"text-align: right;\">\n",
       "      <th></th>\n",
       "      <th>id_movie</th>\n",
       "      <th>name</th>\n",
       "      <th>original_language</th>\n",
       "      <th>release_date</th>\n",
       "      <th>release_year</th>\n",
       "      <th>genre_id</th>\n",
       "      <th>genre_name</th>\n",
       "      <th>popularity</th>\n",
       "      <th>runtime</th>\n",
       "      <th>vote_average</th>\n",
       "      <th>vote_count</th>\n",
       "      <th>company_id</th>\n",
       "      <th>company_name</th>\n",
       "      <th>revenue</th>\n",
       "      <th>budget</th>\n",
       "      <th>return</th>\n",
       "      <th>overview</th>\n",
       "    </tr>\n",
       "  </thead>\n",
       "  <tbody>\n",
       "    <tr>\n",
       "      <th>0</th>\n",
       "      <td>862</td>\n",
       "      <td>Toy Story</td>\n",
       "      <td>en</td>\n",
       "      <td>1995-10-30</td>\n",
       "      <td>1995</td>\n",
       "      <td>16</td>\n",
       "      <td>Animation</td>\n",
       "      <td>21.946943</td>\n",
       "      <td>81</td>\n",
       "      <td>7.699219</td>\n",
       "      <td>5415</td>\n",
       "      <td>3</td>\n",
       "      <td>Pixar Animation Studios</td>\n",
       "      <td>373554033</td>\n",
       "      <td>30000000</td>\n",
       "      <td>12.453125</td>\n",
       "      <td>Led by Woody, Andy's toys live happily in his ...</td>\n",
       "    </tr>\n",
       "  </tbody>\n",
       "</table>\n",
       "</div>"
      ],
      "text/plain": [
       "   id_movie       name original_language release_date  release_year  genre_id  \\\n",
       "0       862  Toy Story                en   1995-10-30          1995        16   \n",
       "\n",
       "  genre_name  popularity  runtime  vote_average  vote_count  company_id  \\\n",
       "0  Animation   21.946943       81      7.699219        5415           3   \n",
       "\n",
       "              company_name    revenue    budget     return  \\\n",
       "0  Pixar Animation Studios  373554033  30000000  12.453125   \n",
       "\n",
       "                                            overview  \n",
       "0  Led by Woody, Andy's toys live happily in his ...  "
      ]
     },
     "execution_count": 6,
     "metadata": {},
     "output_type": "execute_result"
    }
   ],
   "source": [
    "df_movies.head(1)"
   ]
  },
  {
   "cell_type": "code",
   "execution_count": 7,
   "metadata": {},
   "outputs": [
    {
     "name": "stderr",
     "output_type": "stream",
     "text": [
      "C:\\Users\\DELL\\AppData\\Local\\Temp\\ipykernel_10404\\4109447697.py:3: SettingWithCopyWarning: \n",
      "A value is trying to be set on a copy of a slice from a DataFrame\n",
      "\n",
      "See the caveats in the documentation: https://pandas.pydata.org/pandas-docs/stable/user_guide/indexing.html#returning-a-view-versus-a-copy\n",
      "  movie_name.drop_duplicates(inplace = True)\n",
      "C:\\Users\\DELL\\AppData\\Local\\Temp\\ipykernel_10404\\4109447697.py:5: SettingWithCopyWarning: \n",
      "A value is trying to be set on a copy of a slice from a DataFrame\n",
      "\n",
      "See the caveats in the documentation: https://pandas.pydata.org/pandas-docs/stable/user_guide/indexing.html#returning-a-view-versus-a-copy\n",
      "  movie_name.rename(columns={'name': 'Name'}, inplace= True)\n"
     ]
    },
    {
     "data": {
      "text/html": [
       "<div>\n",
       "<style scoped>\n",
       "    .dataframe tbody tr th:only-of-type {\n",
       "        vertical-align: middle;\n",
       "    }\n",
       "\n",
       "    .dataframe tbody tr th {\n",
       "        vertical-align: top;\n",
       "    }\n",
       "\n",
       "    .dataframe thead th {\n",
       "        text-align: right;\n",
       "    }\n",
       "</style>\n",
       "<table border=\"1\" class=\"dataframe\">\n",
       "  <thead>\n",
       "    <tr style=\"text-align: right;\">\n",
       "      <th></th>\n",
       "      <th>Name</th>\n",
       "    </tr>\n",
       "    <tr>\n",
       "      <th>id_movie</th>\n",
       "      <th></th>\n",
       "    </tr>\n",
       "  </thead>\n",
       "  <tbody>\n",
       "    <tr>\n",
       "      <th>862</th>\n",
       "      <td>Toy Story</td>\n",
       "    </tr>\n",
       "    <tr>\n",
       "      <th>8844</th>\n",
       "      <td>Jumanji</td>\n",
       "    </tr>\n",
       "    <tr>\n",
       "      <th>15602</th>\n",
       "      <td>Grumpier Old Men</td>\n",
       "    </tr>\n",
       "    <tr>\n",
       "      <th>31357</th>\n",
       "      <td>Waiting to Exhale</td>\n",
       "    </tr>\n",
       "  </tbody>\n",
       "</table>\n",
       "</div>"
      ],
      "text/plain": [
       "                       Name\n",
       "id_movie                   \n",
       "862               Toy Story\n",
       "8844                Jumanji\n",
       "15602      Grumpier Old Men\n",
       "31357     Waiting to Exhale"
      ]
     },
     "execution_count": 7,
     "metadata": {},
     "output_type": "execute_result"
    }
   ],
   "source": [
    "# Mediante el indice vamos a observar los nombres de las peliculas\n",
    "movie_name = df_movies[['id_movie', 'name']]\n",
    "movie_name.drop_duplicates(inplace = True)\n",
    "movie_name.set_index('id_movie', inplace = True)\n",
    "movie_name.rename(columns={'name': 'Name'}, inplace= True)\n",
    "movie_name.head(4)"
   ]
  },
  {
   "cell_type": "code",
   "execution_count": 8,
   "metadata": {},
   "outputs": [
    {
     "name": "stdout",
     "output_type": "stream",
     "text": [
      "Toy Story\n"
     ]
    }
   ],
   "source": [
    "item = 862\n",
    "print(movie_name.loc[item].Name)"
   ]
  },
  {
   "cell_type": "code",
   "execution_count": 9,
   "metadata": {},
   "outputs": [
    {
     "data": {
      "text/html": [
       "<div>\n",
       "<style scoped>\n",
       "    .dataframe tbody tr th:only-of-type {\n",
       "        vertical-align: middle;\n",
       "    }\n",
       "\n",
       "    .dataframe tbody tr th {\n",
       "        vertical-align: top;\n",
       "    }\n",
       "\n",
       "    .dataframe thead th {\n",
       "        text-align: right;\n",
       "    }\n",
       "</style>\n",
       "<table border=\"1\" class=\"dataframe\">\n",
       "  <thead>\n",
       "    <tr style=\"text-align: right;\">\n",
       "      <th></th>\n",
       "      <th>id_movie</th>\n",
       "      <th>name</th>\n",
       "      <th>original_language</th>\n",
       "      <th>release_date</th>\n",
       "      <th>release_year</th>\n",
       "      <th>genre_id</th>\n",
       "      <th>genre_name</th>\n",
       "      <th>popularity</th>\n",
       "      <th>runtime</th>\n",
       "      <th>vote_average</th>\n",
       "      <th>vote_count</th>\n",
       "      <th>company_id</th>\n",
       "      <th>company_name</th>\n",
       "      <th>revenue</th>\n",
       "      <th>budget</th>\n",
       "      <th>return</th>\n",
       "      <th>overview</th>\n",
       "    </tr>\n",
       "  </thead>\n",
       "  <tbody>\n",
       "    <tr>\n",
       "      <th>49512</th>\n",
       "      <td>272</td>\n",
       "      <td>Batman Begins</td>\n",
       "      <td>en</td>\n",
       "      <td>2005-06-10</td>\n",
       "      <td>2005</td>\n",
       "      <td>28</td>\n",
       "      <td>Action</td>\n",
       "      <td>28.505341</td>\n",
       "      <td>-116</td>\n",
       "      <td>7.5</td>\n",
       "      <td>7511</td>\n",
       "      <td>429</td>\n",
       "      <td>DC Comics</td>\n",
       "      <td>374218673</td>\n",
       "      <td>150000000</td>\n",
       "      <td>2.494141</td>\n",
       "      <td>Driven by tragedy, billionaire Bruce Wayne ded...</td>\n",
       "    </tr>\n",
       "    <tr>\n",
       "      <th>49513</th>\n",
       "      <td>272</td>\n",
       "      <td>Batman Begins</td>\n",
       "      <td>en</td>\n",
       "      <td>2005-06-10</td>\n",
       "      <td>2005</td>\n",
       "      <td>28</td>\n",
       "      <td>Action</td>\n",
       "      <td>28.505341</td>\n",
       "      <td>-116</td>\n",
       "      <td>7.5</td>\n",
       "      <td>7511</td>\n",
       "      <td>923</td>\n",
       "      <td>Legendary Pictures</td>\n",
       "      <td>374218673</td>\n",
       "      <td>150000000</td>\n",
       "      <td>2.494141</td>\n",
       "      <td>Driven by tragedy, billionaire Bruce Wayne ded...</td>\n",
       "    </tr>\n",
       "    <tr>\n",
       "      <th>49514</th>\n",
       "      <td>272</td>\n",
       "      <td>Batman Begins</td>\n",
       "      <td>en</td>\n",
       "      <td>2005-06-10</td>\n",
       "      <td>2005</td>\n",
       "      <td>28</td>\n",
       "      <td>Action</td>\n",
       "      <td>28.505341</td>\n",
       "      <td>-116</td>\n",
       "      <td>7.5</td>\n",
       "      <td>7511</td>\n",
       "      <td>6194</td>\n",
       "      <td>Warner Bros.</td>\n",
       "      <td>374218673</td>\n",
       "      <td>150000000</td>\n",
       "      <td>2.494141</td>\n",
       "      <td>Driven by tragedy, billionaire Bruce Wayne ded...</td>\n",
       "    </tr>\n",
       "    <tr>\n",
       "      <th>49515</th>\n",
       "      <td>272</td>\n",
       "      <td>Batman Begins</td>\n",
       "      <td>en</td>\n",
       "      <td>2005-06-10</td>\n",
       "      <td>2005</td>\n",
       "      <td>28</td>\n",
       "      <td>Action</td>\n",
       "      <td>28.505341</td>\n",
       "      <td>-116</td>\n",
       "      <td>7.5</td>\n",
       "      <td>7511</td>\n",
       "      <td>9993</td>\n",
       "      <td>DC Entertainment</td>\n",
       "      <td>374218673</td>\n",
       "      <td>150000000</td>\n",
       "      <td>2.494141</td>\n",
       "      <td>Driven by tragedy, billionaire Bruce Wayne ded...</td>\n",
       "    </tr>\n",
       "  </tbody>\n",
       "</table>\n",
       "</div>"
      ],
      "text/plain": [
       "       id_movie           name original_language release_date  release_year  \\\n",
       "49512       272  Batman Begins                en   2005-06-10          2005   \n",
       "49513       272  Batman Begins                en   2005-06-10          2005   \n",
       "49514       272  Batman Begins                en   2005-06-10          2005   \n",
       "49515       272  Batman Begins                en   2005-06-10          2005   \n",
       "\n",
       "       genre_id genre_name  popularity  runtime  vote_average  vote_count  \\\n",
       "49512        28     Action   28.505341     -116           7.5        7511   \n",
       "49513        28     Action   28.505341     -116           7.5        7511   \n",
       "49514        28     Action   28.505341     -116           7.5        7511   \n",
       "49515        28     Action   28.505341     -116           7.5        7511   \n",
       "\n",
       "       company_id        company_name    revenue     budget    return  \\\n",
       "49512         429           DC Comics  374218673  150000000  2.494141   \n",
       "49513         923  Legendary Pictures  374218673  150000000  2.494141   \n",
       "49514        6194        Warner Bros.  374218673  150000000  2.494141   \n",
       "49515        9993    DC Entertainment  374218673  150000000  2.494141   \n",
       "\n",
       "                                                overview  \n",
       "49512  Driven by tragedy, billionaire Bruce Wayne ded...  \n",
       "49513  Driven by tragedy, billionaire Bruce Wayne ded...  \n",
       "49514  Driven by tragedy, billionaire Bruce Wayne ded...  \n",
       "49515  Driven by tragedy, billionaire Bruce Wayne ded...  "
      ]
     },
     "execution_count": 9,
     "metadata": {},
     "output_type": "execute_result"
    }
   ],
   "source": [
    "# Por ejemplo vamos a buscar peliculas de batman \n",
    "batman_movies = df_movies[df_movies['name'].str.contains('Batman Begins', case=False, na=False)]\n",
    "batman_movies.head(4)"
   ]
  },
  {
   "cell_type": "code",
   "execution_count": 10,
   "metadata": {},
   "outputs": [
    {
     "name": "stdout",
     "output_type": "stream",
     "text": [
      "(70407, 2)\n"
     ]
    },
    {
     "data": {
      "text/html": [
       "<div>\n",
       "<style scoped>\n",
       "    .dataframe tbody tr th:only-of-type {\n",
       "        vertical-align: middle;\n",
       "    }\n",
       "\n",
       "    .dataframe tbody tr th {\n",
       "        vertical-align: top;\n",
       "    }\n",
       "\n",
       "    .dataframe thead th {\n",
       "        text-align: right;\n",
       "    }\n",
       "</style>\n",
       "<table border=\"1\" class=\"dataframe\">\n",
       "  <thead>\n",
       "    <tr style=\"text-align: right;\">\n",
       "      <th></th>\n",
       "      <th>id_movie</th>\n",
       "      <th>genre_name</th>\n",
       "    </tr>\n",
       "  </thead>\n",
       "  <tbody>\n",
       "    <tr>\n",
       "      <th>0</th>\n",
       "      <td>-32763</td>\n",
       "      <td>[Mystery, Drama]</td>\n",
       "    </tr>\n",
       "    <tr>\n",
       "      <th>1</th>\n",
       "      <td>-32754</td>\n",
       "      <td>[TV Movie, Drama]</td>\n",
       "    </tr>\n",
       "    <tr>\n",
       "      <th>2</th>\n",
       "      <td>-32746</td>\n",
       "      <td>[Family, Fantasy, Drama]</td>\n",
       "    </tr>\n",
       "    <tr>\n",
       "      <th>3</th>\n",
       "      <td>-32744</td>\n",
       "      <td>[Drama, Music]</td>\n",
       "    </tr>\n",
       "    <tr>\n",
       "      <th>4</th>\n",
       "      <td>-32739</td>\n",
       "      <td>[Romance, Comedy]</td>\n",
       "    </tr>\n",
       "    <tr>\n",
       "      <th>...</th>\n",
       "      <td>...</td>\n",
       "      <td>...</td>\n",
       "    </tr>\n",
       "    <tr>\n",
       "      <th>28155</th>\n",
       "      <td>32757</td>\n",
       "      <td>[Comedy]</td>\n",
       "    </tr>\n",
       "    <tr>\n",
       "      <th>28156</th>\n",
       "      <td>32761</td>\n",
       "      <td>[Drama]</td>\n",
       "    </tr>\n",
       "    <tr>\n",
       "      <th>28157</th>\n",
       "      <td>32764</td>\n",
       "      <td>[Drama]</td>\n",
       "    </tr>\n",
       "    <tr>\n",
       "      <th>28158</th>\n",
       "      <td>32765</td>\n",
       "      <td>[Thriller, Crime, Drama]</td>\n",
       "    </tr>\n",
       "    <tr>\n",
       "      <th>28159</th>\n",
       "      <td>32767</td>\n",
       "      <td>[Drama, History, Comedy]</td>\n",
       "    </tr>\n",
       "  </tbody>\n",
       "</table>\n",
       "<p>28160 rows × 2 columns</p>\n",
       "</div>"
      ],
      "text/plain": [
       "       id_movie                genre_name\n",
       "0        -32763          [Mystery, Drama]\n",
       "1        -32754         [TV Movie, Drama]\n",
       "2        -32746  [Family, Fantasy, Drama]\n",
       "3        -32744            [Drama, Music]\n",
       "4        -32739         [Romance, Comedy]\n",
       "...         ...                       ...\n",
       "28155     32757                  [Comedy]\n",
       "28156     32761                   [Drama]\n",
       "28157     32764                   [Drama]\n",
       "28158     32765  [Thriller, Crime, Drama]\n",
       "28159     32767  [Drama, History, Comedy]\n",
       "\n",
       "[28160 rows x 2 columns]"
      ]
     },
     "execution_count": 10,
     "metadata": {},
     "output_type": "execute_result"
    }
   ],
   "source": [
    "# Dataframe df_movies\n",
    "df_genres = df_movies[['id_movie', 'genre_name']]\n",
    "# Eliminamos valores duplicados \n",
    "df_genres = df_genres.drop_duplicates(subset=df_genres.columns)\n",
    "print(df_genres.shape)\n",
    "# Agrupamos por id_movie y seleccionar los primeros 3 generos\n",
    "df_genres = df_genres.groupby('id_movie')['genre_name'].apply(lambda x : x.head(3).tolist()).reset_index()\n",
    "df_genres"
   ]
  },
  {
   "cell_type": "code",
   "execution_count": 11,
   "metadata": {},
   "outputs": [
    {
     "name": "stdout",
     "output_type": "stream",
     "text": [
      "Actores en la película con id_movie 272: ['Action', 'Crime', 'Drama']\n"
     ]
    }
   ],
   "source": [
    "id_seleccionado = 272\n",
    "\n",
    "# Encontrar la fila correspondiente al 'id_movie' seleccionado\n",
    "fila_seleccionada = df_genres[df_genres['id_movie'] == id_seleccionado]\n",
    "\n",
    "# Acceder a la lista de actores\n",
    "if not fila_seleccionada.empty:\n",
    "    genre = fila_seleccionada.iloc[0]['genre_name']\n",
    "    print(f\"Actores en la película con id_movie {id_seleccionado}: {genre}\")\n",
    "else:\n",
    "    print(f\"No se encontró la película con id_movie {id_seleccionado}\")\n"
   ]
  },
  {
   "cell_type": "code",
   "execution_count": 12,
   "metadata": {},
   "outputs": [
    {
     "data": {
      "text/html": [
       "<div>\n",
       "<style scoped>\n",
       "    .dataframe tbody tr th:only-of-type {\n",
       "        vertical-align: middle;\n",
       "    }\n",
       "\n",
       "    .dataframe tbody tr th {\n",
       "        vertical-align: top;\n",
       "    }\n",
       "\n",
       "    .dataframe thead th {\n",
       "        text-align: right;\n",
       "    }\n",
       "</style>\n",
       "<table border=\"1\" class=\"dataframe\">\n",
       "  <thead>\n",
       "    <tr style=\"text-align: right;\">\n",
       "      <th></th>\n",
       "      <th>id_movie</th>\n",
       "      <th>name_actor</th>\n",
       "    </tr>\n",
       "  </thead>\n",
       "  <tbody>\n",
       "    <tr>\n",
       "      <th>0</th>\n",
       "      <td>2</td>\n",
       "      <td>[Turo Pajala, Susanna Haavisto, Matti Pellonpä...</td>\n",
       "    </tr>\n",
       "    <tr>\n",
       "      <th>1</th>\n",
       "      <td>3</td>\n",
       "      <td>[Matti Pellonpää, Kati Outinen, Sakari Kuosman...</td>\n",
       "    </tr>\n",
       "    <tr>\n",
       "      <th>2</th>\n",
       "      <td>5</td>\n",
       "      <td>[Tim Roth, Antonio Banderas, Jennifer Beals, M...</td>\n",
       "    </tr>\n",
       "    <tr>\n",
       "      <th>3</th>\n",
       "      <td>6</td>\n",
       "      <td>[Emilio Estevez, Cuba Gooding Jr., Denis Leary...</td>\n",
       "    </tr>\n",
       "    <tr>\n",
       "      <th>4</th>\n",
       "      <td>11</td>\n",
       "      <td>[Mark Hamill, Harrison Ford, Carrie Fisher, Pe...</td>\n",
       "    </tr>\n",
       "    <tr>\n",
       "      <th>...</th>\n",
       "      <td>...</td>\n",
       "      <td>...</td>\n",
       "    </tr>\n",
       "    <tr>\n",
       "      <th>43013</th>\n",
       "      <td>464207</td>\n",
       "      <td>[William Shatner, Neil deGrasse Tyson, Chris H...</td>\n",
       "    </tr>\n",
       "    <tr>\n",
       "      <th>43014</th>\n",
       "      <td>465044</td>\n",
       "      <td>[Karolina Antosik, Amelie Leroy, Tessa McGinn,...</td>\n",
       "    </tr>\n",
       "    <tr>\n",
       "      <th>43015</th>\n",
       "      <td>467731</td>\n",
       "      <td>[Lloyd Bridges, Jack Warden, Rafael Campos, Ro...</td>\n",
       "    </tr>\n",
       "    <tr>\n",
       "      <th>43016</th>\n",
       "      <td>468707</td>\n",
       "      <td>[Inka Haapamäki, Rosa Honkonen, Tiitus Rantala...</td>\n",
       "    </tr>\n",
       "    <tr>\n",
       "      <th>43017</th>\n",
       "      <td>469172</td>\n",
       "      <td>[Ruben de Freitas, Teresa Madruga, Fernando He...</td>\n",
       "    </tr>\n",
       "  </tbody>\n",
       "</table>\n",
       "<p>43018 rows × 2 columns</p>\n",
       "</div>"
      ],
      "text/plain": [
       "       id_movie                                         name_actor\n",
       "0             2  [Turo Pajala, Susanna Haavisto, Matti Pellonpä...\n",
       "1             3  [Matti Pellonpää, Kati Outinen, Sakari Kuosman...\n",
       "2             5  [Tim Roth, Antonio Banderas, Jennifer Beals, M...\n",
       "3             6  [Emilio Estevez, Cuba Gooding Jr., Denis Leary...\n",
       "4            11  [Mark Hamill, Harrison Ford, Carrie Fisher, Pe...\n",
       "...         ...                                                ...\n",
       "43013    464207  [William Shatner, Neil deGrasse Tyson, Chris H...\n",
       "43014    465044  [Karolina Antosik, Amelie Leroy, Tessa McGinn,...\n",
       "43015    467731  [Lloyd Bridges, Jack Warden, Rafael Campos, Ro...\n",
       "43016    468707  [Inka Haapamäki, Rosa Honkonen, Tiitus Rantala...\n",
       "43017    469172  [Ruben de Freitas, Teresa Madruga, Fernando He...\n",
       "\n",
       "[43018 rows x 2 columns]"
      ]
     },
     "execution_count": 12,
     "metadata": {},
     "output_type": "execute_result"
    }
   ],
   "source": [
    "# Dataframe df_actors\n",
    "# Agrupamos por id_movie y seleccionar los primeros 3 actores \n",
    "top_actors = df_actors.groupby('id_movie')['name_actor'].apply(lambda x : x.head(4).tolist()).reset_index()\n",
    "top_actors"
   ]
  },
  {
   "cell_type": "code",
   "execution_count": 13,
   "metadata": {},
   "outputs": [
    {
     "name": "stdout",
     "output_type": "stream",
     "text": [
      "Actores en la película con id_movie 272: ['Christian Bale', 'Michael Caine', 'Liam Neeson', 'Katie Holmes']\n"
     ]
    }
   ],
   "source": [
    "# Seleccionar el 'id_movie' específico\n",
    "id_movie_seleccionado = 272\n",
    "\n",
    "# Encontrar la fila correspondiente al 'id_movie' seleccionado\n",
    "fila_seleccionada = top_actors[top_actors['id_movie'] == id_movie_seleccionado]\n",
    "\n",
    "# Acceder a la lista de actores\n",
    "if not fila_seleccionada.empty:\n",
    "    lista_actores = fila_seleccionada.iloc[0]['name_actor']\n",
    "    print(f\"Actores en la película con id_movie {id_movie_seleccionado}: {lista_actores}\")\n",
    "else:\n",
    "    print(f\"No se encontró la película con id_movie {id_movie_seleccionado}\")\n"
   ]
  },
  {
   "cell_type": "code",
   "execution_count": 14,
   "metadata": {},
   "outputs": [
    {
     "data": {
      "text/html": [
       "<div>\n",
       "<style scoped>\n",
       "    .dataframe tbody tr th:only-of-type {\n",
       "        vertical-align: middle;\n",
       "    }\n",
       "\n",
       "    .dataframe tbody tr th {\n",
       "        vertical-align: top;\n",
       "    }\n",
       "\n",
       "    .dataframe thead th {\n",
       "        text-align: right;\n",
       "    }\n",
       "</style>\n",
       "<table border=\"1\" class=\"dataframe\">\n",
       "  <thead>\n",
       "    <tr style=\"text-align: right;\">\n",
       "      <th></th>\n",
       "      <th>id_movie</th>\n",
       "      <th>name_actor</th>\n",
       "    </tr>\n",
       "  </thead>\n",
       "  <tbody>\n",
       "    <tr>\n",
       "      <th>0</th>\n",
       "      <td>2</td>\n",
       "      <td>[Turo Pajala, Susanna Haavisto, Matti Pellonpä...</td>\n",
       "    </tr>\n",
       "  </tbody>\n",
       "</table>\n",
       "</div>"
      ],
      "text/plain": [
       "   id_movie                                         name_actor\n",
       "0         2  [Turo Pajala, Susanna Haavisto, Matti Pellonpä..."
      ]
     },
     "execution_count": 14,
     "metadata": {},
     "output_type": "execute_result"
    }
   ],
   "source": [
    "top_actors.head(1)"
   ]
  },
  {
   "cell_type": "code",
   "execution_count": 15,
   "metadata": {},
   "outputs": [
    {
     "data": {
      "text/html": [
       "<div>\n",
       "<style scoped>\n",
       "    .dataframe tbody tr th:only-of-type {\n",
       "        vertical-align: middle;\n",
       "    }\n",
       "\n",
       "    .dataframe tbody tr th {\n",
       "        vertical-align: top;\n",
       "    }\n",
       "\n",
       "    .dataframe thead th {\n",
       "        text-align: right;\n",
       "    }\n",
       "</style>\n",
       "<table border=\"1\" class=\"dataframe\">\n",
       "  <thead>\n",
       "    <tr style=\"text-align: right;\">\n",
       "      <th></th>\n",
       "      <th>id_movie</th>\n",
       "      <th>director</th>\n",
       "    </tr>\n",
       "  </thead>\n",
       "  <tbody>\n",
       "    <tr>\n",
       "      <th>0</th>\n",
       "      <td>862</td>\n",
       "      <td>John Lasseter</td>\n",
       "    </tr>\n",
       "  </tbody>\n",
       "</table>\n",
       "</div>"
      ],
      "text/plain": [
       "   id_movie       director\n",
       "0       862  John Lasseter"
      ]
     },
     "execution_count": 15,
     "metadata": {},
     "output_type": "execute_result"
    }
   ],
   "source": [
    "# Filtramos los datos solo dejamos las columnas que necesitamos\n",
    "df_team = df_team[['id_movie', 'name']]\n",
    "df_team.rename(columns={'name': 'director'}, inplace = True)\n",
    "df_team.head(1)"
   ]
  },
  {
   "cell_type": "code",
   "execution_count": 16,
   "metadata": {},
   "outputs": [
    {
     "name": "stdout",
     "output_type": "stream",
     "text": [
      "Antes  (157676, 3)\n",
      "Despues  (33213, 3)\n"
     ]
    }
   ],
   "source": [
    "# Hacemos lo mismo con df_games, filtramos los datos para no tener duplicados \n",
    "df_movies = df_movies[['id_movie', 'name', 'overview']]\n",
    "print(\"Antes \", df_movies.shape)\n",
    "df_movies.drop_duplicates(subset=df_movies.columns, inplace=True)\n",
    "print(\"Despues \", df_movies.shape)"
   ]
  },
  {
   "cell_type": "code",
   "execution_count": 17,
   "metadata": {},
   "outputs": [
    {
     "data": {
      "text/html": [
       "<div>\n",
       "<style scoped>\n",
       "    .dataframe tbody tr th:only-of-type {\n",
       "        vertical-align: middle;\n",
       "    }\n",
       "\n",
       "    .dataframe tbody tr th {\n",
       "        vertical-align: top;\n",
       "    }\n",
       "\n",
       "    .dataframe thead th {\n",
       "        text-align: right;\n",
       "    }\n",
       "</style>\n",
       "<table border=\"1\" class=\"dataframe\">\n",
       "  <thead>\n",
       "    <tr style=\"text-align: right;\">\n",
       "      <th></th>\n",
       "      <th>id_movie</th>\n",
       "      <th>name</th>\n",
       "      <th>overview</th>\n",
       "      <th>name_actor</th>\n",
       "      <th>director</th>\n",
       "      <th>genre_name</th>\n",
       "    </tr>\n",
       "  </thead>\n",
       "  <tbody>\n",
       "    <tr>\n",
       "      <th>0</th>\n",
       "      <td>862</td>\n",
       "      <td>Toy Story</td>\n",
       "      <td>Led by Woody, Andy's toys live happily in his ...</td>\n",
       "      <td>[Tom Hanks, Tim Allen, Don Rickles, Jim Varney]</td>\n",
       "      <td>John Lasseter</td>\n",
       "      <td>[Animation, Comedy, Family]</td>\n",
       "    </tr>\n",
       "    <tr>\n",
       "      <th>1</th>\n",
       "      <td>8844</td>\n",
       "      <td>Jumanji</td>\n",
       "      <td>When siblings Judy and Peter discover an encha...</td>\n",
       "      <td>[Robin Williams, Jonathan Hyde, Kirsten Dunst,...</td>\n",
       "      <td>Joe Johnston</td>\n",
       "      <td>[Adventure, Fantasy, Family]</td>\n",
       "    </tr>\n",
       "    <tr>\n",
       "      <th>2</th>\n",
       "      <td>15602</td>\n",
       "      <td>Grumpier Old Men</td>\n",
       "      <td>A family wedding reignites the ancient feud be...</td>\n",
       "      <td>[Walter Matthau, Jack Lemmon, Ann-Margret, Sop...</td>\n",
       "      <td>Howard Deutch</td>\n",
       "      <td>[Romance, Comedy]</td>\n",
       "    </tr>\n",
       "    <tr>\n",
       "      <th>3</th>\n",
       "      <td>31357</td>\n",
       "      <td>Waiting to Exhale</td>\n",
       "      <td>Cheated on, mistreated and stepped on, the wom...</td>\n",
       "      <td>[Whitney Houston, Angela Bassett, Loretta Devi...</td>\n",
       "      <td>Forest Whitaker</td>\n",
       "      <td>[Comedy, Drama, Romance]</td>\n",
       "    </tr>\n",
       "    <tr>\n",
       "      <th>4</th>\n",
       "      <td>11862</td>\n",
       "      <td>Father of the Bride Part II</td>\n",
       "      <td>Just when George Banks has recovered from his ...</td>\n",
       "      <td>[Steve Martin, Diane Keaton, Martin Short, Kim...</td>\n",
       "      <td>Charles Shyer</td>\n",
       "      <td>[Comedy]</td>\n",
       "    </tr>\n",
       "  </tbody>\n",
       "</table>\n",
       "</div>"
      ],
      "text/plain": [
       "   id_movie                         name  \\\n",
       "0       862                    Toy Story   \n",
       "1      8844                      Jumanji   \n",
       "2     15602             Grumpier Old Men   \n",
       "3     31357            Waiting to Exhale   \n",
       "4     11862  Father of the Bride Part II   \n",
       "\n",
       "                                            overview  \\\n",
       "0  Led by Woody, Andy's toys live happily in his ...   \n",
       "1  When siblings Judy and Peter discover an encha...   \n",
       "2  A family wedding reignites the ancient feud be...   \n",
       "3  Cheated on, mistreated and stepped on, the wom...   \n",
       "4  Just when George Banks has recovered from his ...   \n",
       "\n",
       "                                          name_actor         director  \\\n",
       "0    [Tom Hanks, Tim Allen, Don Rickles, Jim Varney]    John Lasseter   \n",
       "1  [Robin Williams, Jonathan Hyde, Kirsten Dunst,...     Joe Johnston   \n",
       "2  [Walter Matthau, Jack Lemmon, Ann-Margret, Sop...    Howard Deutch   \n",
       "3  [Whitney Houston, Angela Bassett, Loretta Devi...  Forest Whitaker   \n",
       "4  [Steve Martin, Diane Keaton, Martin Short, Kim...    Charles Shyer   \n",
       "\n",
       "                     genre_name  \n",
       "0   [Animation, Comedy, Family]  \n",
       "1  [Adventure, Fantasy, Family]  \n",
       "2             [Romance, Comedy]  \n",
       "3      [Comedy, Drama, Romance]  \n",
       "4                      [Comedy]  "
      ]
     },
     "execution_count": 17,
     "metadata": {},
     "output_type": "execute_result"
    }
   ],
   "source": [
    "# Columnas necesarias para el sistema de recomendacion id_movie, name, overview, genres, cast, crew\n",
    "df_system = pd.merge(df_movies, top_actors, on= 'id_movie', how='inner')\n",
    "\n",
    "df_com = pd.merge(df_system, df_team, on='id_movie', how='inner')\n",
    "\n",
    "df_combined = pd.merge(df_com, df_genres, on='id_movie', how='inner')\n",
    "\n",
    "df_combined.head()"
   ]
  },
  {
   "cell_type": "code",
   "execution_count": 18,
   "metadata": {},
   "outputs": [
    {
     "data": {
      "text/plain": [
       "(16649, 6)"
      ]
     },
     "execution_count": 18,
     "metadata": {},
     "output_type": "execute_result"
    }
   ],
   "source": [
    "# Verificamos cuantos valores tenemos\n",
    "df_combined.shape"
   ]
  },
  {
   "cell_type": "code",
   "execution_count": 19,
   "metadata": {},
   "outputs": [
    {
     "data": {
      "text/plain": [
       "Index(['id_movie', 'name', 'overview', 'actor', 'director', 'genre'], dtype='object')"
      ]
     },
     "execution_count": 19,
     "metadata": {},
     "output_type": "execute_result"
    }
   ],
   "source": [
    "df_combined.rename(columns={'genre_name' : 'genre', 'name_actor' : 'actor'}, inplace=True)\n",
    "df_combined.columns"
   ]
  },
  {
   "cell_type": "code",
   "execution_count": 20,
   "metadata": {},
   "outputs": [],
   "source": [
    "# Removemos los espacios\n",
    "df_combined['genre'] = df_combined['genre'].apply(lambda x:[i.replace(\" \", \"\") for i in x])\n",
    "df_combined['actor'] = df_combined['actor'].apply(lambda x:[i.replace(\" \", \"\") for i in x])"
   ]
  },
  {
   "cell_type": "code",
   "execution_count": 21,
   "metadata": {},
   "outputs": [],
   "source": [
    "# Contenamos las columnas genre y actor, porque son listas, para mejor manejo\n",
    "df_combined['semi_tags'] = df_combined['genre'] + df_combined['actor']\n",
    "\n",
    "df_combined['semi_tags'] = df_combined['semi_tags'].apply(lambda x:\" \".join(x))"
   ]
  },
  {
   "cell_type": "code",
   "execution_count": 22,
   "metadata": {},
   "outputs": [],
   "source": [
    "# Concatenamos las columnas que son listas \n",
    "df_combined['tags'] = df_combined['overview'] + df_combined['semi_tags'] + df_combined['director']\n",
    "\n",
    "matriz = df_combined[['id_movie', 'name', 'tags']]"
   ]
  },
  {
   "cell_type": "code",
   "execution_count": 23,
   "metadata": {},
   "outputs": [
    {
     "data": {
      "text/plain": [
       "\"Led by Woody, Andy's toys live happily in his room until Andy's birthday brings Buzz Lightyear onto the scene. Afraid of losing his place in Andy's heart, Woody plots against Buzz. But when circumstances separate Buzz and Woody from their owner, the duo eventually learns to put aside their differences.Animation Comedy Family TomHanks TimAllen DonRickles JimVarneyJohn Lasseter\""
      ]
     },
     "execution_count": 23,
     "metadata": {},
     "output_type": "execute_result"
    }
   ],
   "source": [
    "matriz['tags'][0]"
   ]
  },
  {
   "cell_type": "code",
   "execution_count": 24,
   "metadata": {},
   "outputs": [
    {
     "name": "stderr",
     "output_type": "stream",
     "text": [
      "C:\\Users\\DELL\\AppData\\Local\\Temp\\ipykernel_10404\\729418494.py:2: SettingWithCopyWarning: \n",
      "A value is trying to be set on a copy of a slice from a DataFrame.\n",
      "Try using .loc[row_indexer,col_indexer] = value instead\n",
      "\n",
      "See the caveats in the documentation: https://pandas.pydata.org/pandas-docs/stable/user_guide/indexing.html#returning-a-view-versus-a-copy\n",
      "  matriz['tags'] = matriz['tags'].apply(lambda x:x.lower())\n"
     ]
    },
    {
     "data": {
      "text/html": [
       "<div>\n",
       "<style scoped>\n",
       "    .dataframe tbody tr th:only-of-type {\n",
       "        vertical-align: middle;\n",
       "    }\n",
       "\n",
       "    .dataframe tbody tr th {\n",
       "        vertical-align: top;\n",
       "    }\n",
       "\n",
       "    .dataframe thead th {\n",
       "        text-align: right;\n",
       "    }\n",
       "</style>\n",
       "<table border=\"1\" class=\"dataframe\">\n",
       "  <thead>\n",
       "    <tr style=\"text-align: right;\">\n",
       "      <th></th>\n",
       "      <th>id_movie</th>\n",
       "      <th>name</th>\n",
       "      <th>tags</th>\n",
       "    </tr>\n",
       "  </thead>\n",
       "  <tbody>\n",
       "    <tr>\n",
       "      <th>0</th>\n",
       "      <td>862</td>\n",
       "      <td>Toy Story</td>\n",
       "      <td>led by woody, andy's toys live happily in his ...</td>\n",
       "    </tr>\n",
       "    <tr>\n",
       "      <th>1</th>\n",
       "      <td>8844</td>\n",
       "      <td>Jumanji</td>\n",
       "      <td>when siblings judy and peter discover an encha...</td>\n",
       "    </tr>\n",
       "    <tr>\n",
       "      <th>2</th>\n",
       "      <td>15602</td>\n",
       "      <td>Grumpier Old Men</td>\n",
       "      <td>a family wedding reignites the ancient feud be...</td>\n",
       "    </tr>\n",
       "    <tr>\n",
       "      <th>3</th>\n",
       "      <td>31357</td>\n",
       "      <td>Waiting to Exhale</td>\n",
       "      <td>cheated on, mistreated and stepped on, the wom...</td>\n",
       "    </tr>\n",
       "    <tr>\n",
       "      <th>4</th>\n",
       "      <td>11862</td>\n",
       "      <td>Father of the Bride Part II</td>\n",
       "      <td>just when george banks has recovered from his ...</td>\n",
       "    </tr>\n",
       "  </tbody>\n",
       "</table>\n",
       "</div>"
      ],
      "text/plain": [
       "   id_movie                         name  \\\n",
       "0       862                    Toy Story   \n",
       "1      8844                      Jumanji   \n",
       "2     15602             Grumpier Old Men   \n",
       "3     31357            Waiting to Exhale   \n",
       "4     11862  Father of the Bride Part II   \n",
       "\n",
       "                                                tags  \n",
       "0  led by woody, andy's toys live happily in his ...  \n",
       "1  when siblings judy and peter discover an encha...  \n",
       "2  a family wedding reignites the ancient feud be...  \n",
       "3  cheated on, mistreated and stepped on, the wom...  \n",
       "4  just when george banks has recovered from his ...  "
      ]
     },
     "execution_count": 24,
     "metadata": {},
     "output_type": "execute_result"
    }
   ],
   "source": [
    "# En la columna tags vamos a dejarlo todo en minúscula\n",
    "matriz['tags'] = matriz['tags'].apply(lambda x:x.lower())\n",
    "matriz.head()"
   ]
  },
  {
   "cell_type": "code",
   "execution_count": 25,
   "metadata": {},
   "outputs": [
    {
     "data": {
      "text/plain": [
       "\"led by woody, andy's toys live happily in his room until andy's birthday brings buzz lightyear onto the scene. afraid of losing his place in andy's heart, woody plots against buzz. but when circumstances separate buzz and woody from their owner, the duo eventually learns to put aside their differences.animation comedy family tomhanks timallen donrickles jimvarneyjohn lasseter\""
      ]
     },
     "execution_count": 25,
     "metadata": {},
     "output_type": "execute_result"
    }
   ],
   "source": [
    "matriz.tags[0]"
   ]
  },
  {
   "cell_type": "code",
   "execution_count": 26,
   "metadata": {},
   "outputs": [],
   "source": [
    "# Extraemos el archivo para el deploy\n",
    "# matriz.to_parquet(\"ml1.parquet\")"
   ]
  },
  {
   "cell_type": "markdown",
   "metadata": {},
   "source": [
    "### ***Pre - procesamiento usando nltk***"
   ]
  },
  {
   "cell_type": "code",
   "execution_count": 115,
   "metadata": {},
   "outputs": [],
   "source": [
    "# Inicializamos el CountVector\n",
    "cv = CountVectorizer(max_features= 5000, stop_words= 'english')"
   ]
  },
  {
   "cell_type": "code",
   "execution_count": 116,
   "metadata": {},
   "outputs": [
    {
     "name": "stdout",
     "output_type": "stream",
     "text": [
      "[[0 0 0 ... 0 0 0]\n",
      " [0 0 0 ... 0 0 0]\n",
      " [0 0 0 ... 0 0 0]\n",
      " ...\n",
      " [0 0 1 ... 0 0 0]\n",
      " [0 0 1 ... 0 0 0]\n",
      " [0 0 0 ... 0 0 0]]\n"
     ]
    }
   ],
   "source": [
    "vectors = cv.fit_transform(matriz['tags']).toarray()\n",
    "print(vectors)"
   ]
  },
  {
   "cell_type": "code",
   "execution_count": 117,
   "metadata": {},
   "outputs": [],
   "source": [
    "# Inicializamos el Porter Stemmer para reducir las palabras a palabras base \n",
    "ps = PorterStemmer()"
   ]
  },
  {
   "cell_type": "code",
   "execution_count": 47,
   "metadata": {},
   "outputs": [],
   "source": [
    "# Creamos la funcion de ps o (PorterStemmer)\n",
    "def stem(text):\n",
    " y = []\n",
    " for i in text.split():\n",
    "    y.append(ps.stem(i))\n",
    "\n",
    " return \" \".join(y)"
   ]
  },
  {
   "cell_type": "code",
   "execution_count": 48,
   "metadata": {},
   "outputs": [
    {
     "name": "stderr",
     "output_type": "stream",
     "text": [
      "C:\\Users\\DELL\\AppData\\Local\\Temp\\ipykernel_10404\\100689287.py:1: SettingWithCopyWarning: \n",
      "A value is trying to be set on a copy of a slice from a DataFrame.\n",
      "Try using .loc[row_indexer,col_indexer] = value instead\n",
      "\n",
      "See the caveats in the documentation: https://pandas.pydata.org/pandas-docs/stable/user_guide/indexing.html#returning-a-view-versus-a-copy\n",
      "  matriz['tags'] = matriz['tags'].apply(stem)\n"
     ]
    }
   ],
   "source": [
    "matriz['tags'] = matriz['tags'].apply(stem)"
   ]
  },
  {
   "cell_type": "code",
   "execution_count": 92,
   "metadata": {},
   "outputs": [
    {
     "data": {
      "text/plain": [
       "(13698, 5000)"
      ]
     },
     "execution_count": 92,
     "metadata": {},
     "output_type": "execute_result"
    }
   ],
   "source": [
    "# Reducimos un poco el CountVectors\n",
    "vectors.shape"
   ]
  },
  {
   "cell_type": "code",
   "execution_count": 121,
   "metadata": {},
   "outputs": [],
   "source": [
    "reduce_vector = vectors[:8000, :]"
   ]
  },
  {
   "cell_type": "code",
   "execution_count": 118,
   "metadata": {},
   "outputs": [],
   "source": [
    "# Usamos las similitud del coseno \n",
    "similarity = cosine_similarity(vectors)"
   ]
  },
  {
   "cell_type": "code",
   "execution_count": 95,
   "metadata": {},
   "outputs": [
    {
     "data": {
      "text/plain": [
       "array([1.        , 0.06825236, 0.05073463, ..., 0.17817416, 0.        ,\n",
       "       0.        ])"
      ]
     },
     "execution_count": 95,
     "metadata": {},
     "output_type": "execute_result"
    }
   ],
   "source": [
    "similarity[0]"
   ]
  },
  {
   "cell_type": "code",
   "execution_count": 96,
   "metadata": {},
   "outputs": [
    {
     "name": "stdout",
     "output_type": "stream",
     "text": [
      "[[1.         0.06825236 0.05073463 ... 0.17817416 0.         0.        ]\n",
      " [0.06825236 1.         0.07271792 ... 0.08512565 0.         0.0269191 ]\n",
      " [0.05073463 0.07271792 1.         ... 0.0316386  0.         0.        ]\n",
      " ...\n",
      " [0.17817416 0.08512565 0.0316386  ... 1.         0.19245009 0.14054567]\n",
      " [0.         0.         0.         ... 0.19245009 1.         0.09128709]\n",
      " [0.         0.0269191  0.         ... 0.14054567 0.09128709 1.        ]]\n"
     ]
    }
   ],
   "source": [
    "print(similarity)"
   ]
  },
  {
   "cell_type": "code",
   "execution_count": 119,
   "metadata": {},
   "outputs": [],
   "source": [
    "def recommend(movie):\n",
    "  movie_index = matriz[matriz['name'] == movie].index[0]\n",
    "  distances = similarity[movie_index]\n",
    "  movies_list = sorted(list(enumerate(distances)), reverse = True, key = lambda x:x[1])[1:6]\n",
    "  \n",
    "  for i in movies_list:\n",
    "    print(matriz.iloc[i[0]]['name'])\n",
    "  "
   ]
  },
  {
   "cell_type": "code",
   "execution_count": 120,
   "metadata": {},
   "outputs": [
    {
     "name": "stdout",
     "output_type": "stream",
     "text": [
      "Small Fry\n",
      "Toy Story 2\n",
      "Harry Potter and the Philosopher's Stone\n",
      "Sandesham\n",
      "My Life as a Zucchini\n"
     ]
    }
   ],
   "source": [
    "recommend('Toy Story')"
   ]
  },
  {
   "cell_type": "code",
   "execution_count": 41,
   "metadata": {},
   "outputs": [
    {
     "data": {
      "text/html": [
       "<div>\n",
       "<style scoped>\n",
       "    .dataframe tbody tr th:only-of-type {\n",
       "        vertical-align: middle;\n",
       "    }\n",
       "\n",
       "    .dataframe tbody tr th {\n",
       "        vertical-align: top;\n",
       "    }\n",
       "\n",
       "    .dataframe thead th {\n",
       "        text-align: right;\n",
       "    }\n",
       "</style>\n",
       "<table border=\"1\" class=\"dataframe\">\n",
       "  <thead>\n",
       "    <tr style=\"text-align: right;\">\n",
       "      <th></th>\n",
       "      <th>id_movie</th>\n",
       "      <th>name</th>\n",
       "      <th>tags</th>\n",
       "    </tr>\n",
       "  </thead>\n",
       "  <tbody>\n",
       "    <tr>\n",
       "      <th>133</th>\n",
       "      <td>414</td>\n",
       "      <td>Batman Forever</td>\n",
       "      <td>the dark knight of gotham citi confront a dast...</td>\n",
       "    </tr>\n",
       "    <tr>\n",
       "      <th>574</th>\n",
       "      <td>268</td>\n",
       "      <td>Batman</td>\n",
       "      <td>the dark knight of gotham citi begin hi war on...</td>\n",
       "    </tr>\n",
       "    <tr>\n",
       "      <th>1283</th>\n",
       "      <td>364</td>\n",
       "      <td>Batman Returns</td>\n",
       "      <td>have defeat the joker, batman now face the pen...</td>\n",
       "    </tr>\n",
       "    <tr>\n",
       "      <th>1415</th>\n",
       "      <td>415</td>\n",
       "      <td>Batman &amp; Robin</td>\n",
       "      <td>along with crime-fight partner robin and new r...</td>\n",
       "    </tr>\n",
       "  </tbody>\n",
       "</table>\n",
       "</div>"
      ],
      "text/plain": [
       "      id_movie            name  \\\n",
       "133        414  Batman Forever   \n",
       "574        268          Batman   \n",
       "1283       364  Batman Returns   \n",
       "1415       415  Batman & Robin   \n",
       "\n",
       "                                                   tags  \n",
       "133   the dark knight of gotham citi confront a dast...  \n",
       "574   the dark knight of gotham citi begin hi war on...  \n",
       "1283  have defeat the joker, batman now face the pen...  \n",
       "1415  along with crime-fight partner robin and new r...  "
      ]
     },
     "execution_count": 41,
     "metadata": {},
     "output_type": "execute_result"
    }
   ],
   "source": [
    "# Por ejemplo vamos a buscar peliculas de batman \n",
    "batman_movies = matriz[matriz['name'].str.contains('Batman', case=False, na=False)]\n",
    "batman_movies.head(4)"
   ]
  },
  {
   "cell_type": "code",
   "execution_count": 122,
   "metadata": {},
   "outputs": [],
   "source": [
    "# Extraemos la variable vectors\n",
    "vectors = pd.DataFrame(reduce_vector)\n",
    "vectors.to_parquet(\"vectores.parquet\")"
   ]
  }
 ],
 "metadata": {
  "kernelspec": {
   "display_name": "Python 3",
   "language": "python",
   "name": "python3"
  },
  "language_info": {
   "codemirror_mode": {
    "name": "ipython",
    "version": 3
   },
   "file_extension": ".py",
   "mimetype": "text/x-python",
   "name": "python",
   "nbconvert_exporter": "python",
   "pygments_lexer": "ipython3",
   "version": "3.11.9"
  }
 },
 "nbformat": 4,
 "nbformat_minor": 2
}
